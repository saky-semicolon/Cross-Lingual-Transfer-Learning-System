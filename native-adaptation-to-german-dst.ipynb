{
 "cells": [
  {
   "cell_type": "markdown",
   "metadata": {},
   "source": [
    "# Native Adaptation to German Dataset for Dialogue State Tracking  \n",
    "\n",
    "This implementation leverages the BERT multilingual model (mBERT) for Dialogue State Tracking (DST) using German-language datasets. The primary objective is to fine-tune mBERT on German dialogues and evaluate its performance with advanced optimization techniques like mixed precision training and gradient accumulation.\n",
    "\n",
    "## Steps of Implementation  \n",
    "\n",
    "1. **Dataset Preparation**:  \n",
    "   - Load the dataset containing German dialogue logs.  \n",
    "   - Flatten the dataset into individual dialogue turns, each with an associated label.  \n",
    "   - Split the dataset into training (80%) and testing (20%) subsets using the `train_test_split` method.\n",
    "\n",
    "2. **Tokenization**:  \n",
    "   - Use the `BertTokenizer` from HuggingFace to tokenize dialogue turns.  \n",
    "   - Set a sequence length limit of 128 tokens for memory efficiency.  \n",
    "   - Implement dynamic padding with `DataCollatorWithPadding` to streamline preprocessing.\n",
    "\n",
    "3. **Custom Dataset Class**:  \n",
    "   - Define a PyTorch-compatible `DialogueDataset` class for handling tokenized data.  \n",
    "   - Convert dialogue text into input IDs, attention masks, and labels for model input.\n",
    "\n",
    "4. **Model Initialization**:  \n",
    "   - Load the BERT multilingual model (`bert-base-multilingual-cased`) for binary classification tasks.  \n",
    "   - Fine-tune the pre-trained model using the given German dataset.\n",
    "\n",
    "5. **Custom Evaluation Metric**:  \n",
    "   - Define a `compute_metrics` function to measure accuracy by comparing predicted and actual labels.  \n",
    "\n",
    "6. **Training and Evaluation**:  \n",
    "   - Employ HuggingFace's `Trainer` to simplify training and evaluation workflows.  \n",
    "   - Test the trained model on the reserved testing dataset and report evaluation metrics.\n",
    "\n",
    "7. **Save the Fine-Tuned Model**:  \n",
    "   - Save the trained model and tokenizer for future inference or deployment.\n"
   ]
  },
  {
   "cell_type": "markdown",
   "metadata": {},
   "source": [
    "## Importing Libraries"
   ]
  },
  {
   "cell_type": "code",
   "execution_count": 2,
   "metadata": {
    "execution": {
     "iopub.execute_input": "2025-01-10T18:59:31.046835Z",
     "iopub.status.busy": "2025-01-10T18:59:31.046492Z",
     "iopub.status.idle": "2025-01-10T18:59:47.757338Z",
     "shell.execute_reply": "2025-01-10T18:59:47.756316Z",
     "shell.execute_reply.started": "2025-01-10T18:59:31.046804Z"
    },
    "id": "9_zqGIsZiZKW"
   },
   "outputs": [],
   "source": [
    "import json\n",
    "import torch\n",
    "from sklearn.model_selection import train_test_split\n",
    "from transformers import BertTokenizer, BertForSequenceClassification, Trainer, TrainingArguments\n",
    "from torch.utils.data import Dataset"
   ]
  },
  {
   "cell_type": "markdown",
   "metadata": {},
   "source": [
    "## Step 1: Dataset Preparation"
   ]
  },
  {
   "cell_type": "markdown",
   "metadata": {},
   "source": [
    "### Custom Dataset Class: `GermanDialogueDataset`\n",
    "\n",
    "The `GermanDialogueDataset` class is a PyTorch-compatible implementation for managing tokenized data in Dialogue State Tracking tasks.  \n",
    "\n",
    "### Key Features:\n",
    "- **Initialization (`__init__`)**:  \n",
    "  Accepts a list of dialogue samples, a tokenizer, and an optional `max_length` (default: 512 tokens).  \n",
    "- **Length (`__len__`)**:  \n",
    "  Returns the total number of dialogue samples.  \n",
    "- **Item Retrieval (`__getitem__`)**:  \n",
    "  Retrieves a dialogue sample by index, tokenizes the dialogue text, and prepares inputs for the model:  \n",
    "  - `input_ids`: Token IDs.  \n",
    "  - `attention_mask`: Attention mask for tokens.  \n",
    "  - `labels`: Associated label (default: 0 for binary classification).  \n",
    "\n",
    "This class efficiently manages tokenized dialogue inputs for model training and evaluation.\n"
   ]
  },
  {
   "cell_type": "code",
   "execution_count": 3,
   "metadata": {
    "execution": {
     "iopub.execute_input": "2025-01-10T18:59:54.241371Z",
     "iopub.status.busy": "2025-01-10T18:59:54.240656Z",
     "iopub.status.idle": "2025-01-10T18:59:54.247857Z",
     "shell.execute_reply": "2025-01-10T18:59:54.246736Z",
     "shell.execute_reply.started": "2025-01-10T18:59:54.241336Z"
    },
    "id": "ImGlHOsqiZMQ"
   },
   "outputs": [],
   "source": [
    "class GermanDialogueDataset(Dataset):\n",
    "    def __init__(self, dialogues, tokenizer, max_length=512):\n",
    "        self.dialogues = dialogues\n",
    "        self.tokenizer = tokenizer\n",
    "        self.max_length = max_length\n",
    "\n",
    "    def __len__(self):\n",
    "        return len(self.dialogues)\n",
    "\n",
    "    def __getitem__(self, idx):\n",
    "        dialogue = self.dialogues[idx]\n",
    "        text = dialogue[\"text\"]\n",
    "        label = dialogue.get(\"label\", 0)  # Default label is 0 for binary classification\n",
    "        tokenized = self.tokenizer(\n",
    "            text,\n",
    "            padding=\"max_length\",\n",
    "            truncation=True,\n",
    "            max_length=self.max_length,\n",
    "            return_tensors=\"pt\"\n",
    "        )\n",
    "        return {\n",
    "            \"input_ids\": tokenized[\"input_ids\"].squeeze(0),\n",
    "            \"attention_mask\": tokenized[\"attention_mask\"].squeeze(0),\n",
    "            \"labels\": torch.tensor(label, dtype=torch.long)\n",
    "        }\n"
   ]
  },
  {
   "cell_type": "code",
   "execution_count": 4,
   "metadata": {
    "execution": {
     "iopub.execute_input": "2025-01-10T19:00:19.908822Z",
     "iopub.status.busy": "2025-01-10T19:00:19.908453Z",
     "iopub.status.idle": "2025-01-10T19:00:20.521802Z",
     "shell.execute_reply": "2025-01-10T19:00:20.520928Z",
     "shell.execute_reply.started": "2025-01-10T19:00:19.908790Z"
    },
    "id": "ctSs4ovpiZOR"
   },
   "outputs": [],
   "source": [
    "# Load the file\n",
    "file_path = \"/kaggle/input/cross-lm/german_data.json\"\n",
    "with open(file_path, \"r\", encoding=\"utf-8\") as f:\n",
    "    dialogues_data = json.load(f)"
   ]
  },
  {
   "cell_type": "code",
   "execution_count": 5,
   "metadata": {
    "execution": {
     "iopub.execute_input": "2025-01-10T19:00:32.903265Z",
     "iopub.status.busy": "2025-01-10T19:00:32.902922Z",
     "iopub.status.idle": "2025-01-10T19:00:32.921118Z",
     "shell.execute_reply": "2025-01-10T19:00:32.919960Z",
     "shell.execute_reply.started": "2025-01-10T19:00:32.903240Z"
    },
    "id": "rRyYTm7GiZQs"
   },
   "outputs": [],
   "source": [
    "# Flatten the dialogues into a list of turns\n",
    "dialogues = []\n",
    "for dialogue_id, dialogue in dialogues_data.items():\n",
    "    for turn in dialogue[\"log-de\"]:\n",
    "        dialogues.append({\"text\": turn[\"text\"], \"label\": 0})  # You can adjust the labels based on your task"
   ]
  },
  {
   "cell_type": "code",
   "execution_count": 6,
   "metadata": {
    "execution": {
     "iopub.execute_input": "2025-01-10T19:00:36.632210Z",
     "iopub.status.busy": "2025-01-10T19:00:36.631821Z",
     "iopub.status.idle": "2025-01-10T19:00:36.642496Z",
     "shell.execute_reply": "2025-01-10T19:00:36.641200Z",
     "shell.execute_reply.started": "2025-01-10T19:00:36.632180Z"
    },
    "id": "kHSG8-5iiZTE"
   },
   "outputs": [],
   "source": [
    "# Split the data into training and testing sets\n",
    "train_data, test_data = train_test_split(dialogues, test_size=0.2, random_state=42)"
   ]
  },
  {
   "cell_type": "code",
   "execution_count": 7,
   "metadata": {
    "execution": {
     "iopub.execute_input": "2025-01-10T19:00:40.614559Z",
     "iopub.status.busy": "2025-01-10T19:00:40.614218Z",
     "iopub.status.idle": "2025-01-10T19:00:44.958700Z",
     "shell.execute_reply": "2025-01-10T19:00:44.957465Z",
     "shell.execute_reply.started": "2025-01-10T19:00:40.614531Z"
    },
    "id": "qnB95IAcisaw"
   },
   "outputs": [
    {
     "data": {
      "application/vnd.jupyter.widget-view+json": {
       "model_id": "9e0dc5dc4b214dc28c60734bba68e8a3",
       "version_major": 2,
       "version_minor": 0
      },
      "text/plain": [
       "tokenizer_config.json:   0%|          | 0.00/49.0 [00:00<?, ?B/s]"
      ]
     },
     "metadata": {},
     "output_type": "display_data"
    },
    {
     "data": {
      "application/vnd.jupyter.widget-view+json": {
       "model_id": "9689248a7c7345c49e583b2ccd69367f",
       "version_major": 2,
       "version_minor": 0
      },
      "text/plain": [
       "vocab.txt:   0%|          | 0.00/996k [00:00<?, ?B/s]"
      ]
     },
     "metadata": {},
     "output_type": "display_data"
    },
    {
     "data": {
      "application/vnd.jupyter.widget-view+json": {
       "model_id": "bd7aff485c634b398d56e27a5f4a9a54",
       "version_major": 2,
       "version_minor": 0
      },
      "text/plain": [
       "tokenizer.json:   0%|          | 0.00/1.96M [00:00<?, ?B/s]"
      ]
     },
     "metadata": {},
     "output_type": "display_data"
    },
    {
     "data": {
      "application/vnd.jupyter.widget-view+json": {
       "model_id": "b65a670c04f3404ca12cafb210f34e50",
       "version_major": 2,
       "version_minor": 0
      },
      "text/plain": [
       "config.json:   0%|          | 0.00/625 [00:00<?, ?B/s]"
      ]
     },
     "metadata": {},
     "output_type": "display_data"
    },
    {
     "name": "stderr",
     "output_type": "stream",
     "text": [
      "/usr/local/lib/python3.10/dist-packages/transformers/tokenization_utils_base.py:1601: FutureWarning: `clean_up_tokenization_spaces` was not set. It will be set to `True` by default. This behavior will be depracted in transformers v4.45, and will be then set to `False` by default. For more details check this issue: https://github.com/huggingface/transformers/issues/31884\n",
      "  warnings.warn(\n"
     ]
    }
   ],
   "source": [
    "# Initialize the tokenizer\n",
    "tokenizer = BertTokenizer.from_pretrained(\"bert-base-multilingual-cased\")"
   ]
  },
  {
   "cell_type": "code",
   "execution_count": 8,
   "metadata": {
    "execution": {
     "iopub.execute_input": "2025-01-10T19:00:50.357957Z",
     "iopub.status.busy": "2025-01-10T19:00:50.357576Z",
     "iopub.status.idle": "2025-01-10T19:00:50.362932Z",
     "shell.execute_reply": "2025-01-10T19:00:50.361773Z",
     "shell.execute_reply.started": "2025-01-10T19:00:50.357923Z"
    },
    "id": "JeqcbCDjisct"
   },
   "outputs": [],
   "source": [
    "# Prepare datasets\n",
    "train_dataset = GermanDialogueDataset(train_data, tokenizer)\n",
    "test_dataset = GermanDialogueDataset(test_data, tokenizer)"
   ]
  },
  {
   "cell_type": "markdown",
   "metadata": {},
   "source": [
    "## Step 2: Model Initialization"
   ]
  },
  {
   "cell_type": "code",
   "execution_count": 9,
   "metadata": {
    "colab": {
     "base_uri": "https://localhost:8080/"
    },
    "execution": {
     "iopub.execute_input": "2025-01-10T19:00:55.531264Z",
     "iopub.status.busy": "2025-01-10T19:00:55.530781Z",
     "iopub.status.idle": "2025-01-10T19:00:59.491193Z",
     "shell.execute_reply": "2025-01-10T19:00:59.490337Z",
     "shell.execute_reply.started": "2025-01-10T19:00:55.531225Z"
    },
    "id": "e8125uwRiseq",
    "outputId": "db15c70b-a72e-4d71-f50b-a5b8cc90451e"
   },
   "outputs": [
    {
     "data": {
      "application/vnd.jupyter.widget-view+json": {
       "model_id": "e06033b072b74dd8a48f9df1d8625898",
       "version_major": 2,
       "version_minor": 0
      },
      "text/plain": [
       "model.safetensors:   0%|          | 0.00/714M [00:00<?, ?B/s]"
      ]
     },
     "metadata": {},
     "output_type": "display_data"
    },
    {
     "name": "stderr",
     "output_type": "stream",
     "text": [
      "Some weights of BertForSequenceClassification were not initialized from the model checkpoint at bert-base-multilingual-cased and are newly initialized: ['classifier.bias', 'classifier.weight']\n",
      "You should probably TRAIN this model on a down-stream task to be able to use it for predictions and inference.\n"
     ]
    }
   ],
   "source": [
    "model = BertForSequenceClassification.from_pretrained(\"bert-base-multilingual-cased\", num_labels=2)"
   ]
  },
  {
   "cell_type": "markdown",
   "metadata": {},
   "source": [
    "## Step 3: Training"
   ]
  },
  {
   "cell_type": "markdown",
   "metadata": {},
   "source": [
    "# Suggestion- Train with 3 epochs\n",
    "\n",
    "### Training Arguments\n",
    "The training process is configured using HuggingFace's `TrainingArguments` class. Key parameters include:  \n",
    "- **`output_dir`**: Directory to save the model and checkpoints (`/kaggle/working/`).  \n",
    "- **`learning_rate`**: Learning rate for optimization (`5e-5`).  \n",
    "- **`per_device_train_batch_size`**: Batch size for training per device (`8`).  \n",
    "- **`per_device_eval_batch_size`**: Batch size for evaluation per device (`8`).  \n",
    "- **`num_train_epochs`**: Number of epochs for training. Initially set to `0.1` for testing purposes but **recommended to increase to at least 3–5 epochs** for better fine-tuning and improved performance on larger datasets.  \n",
    "- **`weight_decay`**: Weight decay regularization (`0.01`).  \n",
    "- **`evaluation_strategy`**: Perform evaluation at the end of every epoch (`\"epoch\"`).  \n",
    "- **`save_total_limit`**: Maximum number of model checkpoints to retain (`2`).  \n",
    "- **`logging_dir`**: Directory to save logs (`./logs`).  \n",
    "- **`logging_steps`**: Log training details every 10 steps.\n",
    "\n",
    "### Model Training with `Trainer`\n",
    "HuggingFace's `Trainer` is utilized for efficient model training and evaluation:  \n",
    "- **`model`**: The initialized model to fine-tune.  \n",
    "- **`args`**: The training arguments defined above.  \n",
    "- **`train_dataset`**: The training dataset prepared for the task.  \n",
    "- **`eval_dataset`**: The evaluation dataset for validation.\n",
    "\n",
    "### Suggested Adjustment\n",
    "For optimal performance:  \n",
    "- Increase **`num_train_epochs`** to a minimum of **3–5 epochs**, or more, depending on dataset size and model convergence.  \n",
    "- Regularly monitor evaluation metrics after each epoch to ensure the model's effectiveness.\n",
    "\n",
    "This configuration ensures efficient management of training workflows, including checkpointing, validation, and detailed logging.\n"
   ]
  },
  {
   "cell_type": "code",
   "execution_count": 23,
   "metadata": {
    "execution": {
     "iopub.execute_input": "2025-01-10T19:16:33.648178Z",
     "iopub.status.busy": "2025-01-10T19:16:33.647747Z",
     "iopub.status.idle": "2025-01-10T19:16:33.666089Z",
     "shell.execute_reply": "2025-01-10T19:16:33.665134Z",
     "shell.execute_reply.started": "2025-01-10T19:16:33.648146Z"
    },
    "id": "Hu1n6cs3isg_"
   },
   "outputs": [
    {
     "name": "stderr",
     "output_type": "stream",
     "text": [
      "Using the `WANDB_DISABLED` environment variable is deprecated and will be removed in v5. Use the --report_to flag to control the integrations used for logging result (for instance --report_to none).\n"
     ]
    }
   ],
   "source": [
    "training_args = TrainingArguments(\n",
    "    output_dir=\"/kaggle/working/\",\n",
    "    learning_rate=5e-5,\n",
    "    per_device_train_batch_size=8,\n",
    "    per_device_eval_batch_size=8,\n",
    "    num_train_epochs=0.1,\n",
    "    weight_decay=0.01,\n",
    "    evaluation_strategy=\"epoch\",\n",
    "    save_total_limit=2,\n",
    "    logging_dir=\"./logs\",\n",
    "    logging_steps=10,\n",
    ")\n",
    "\n",
    "trainer = Trainer(\n",
    "    model=model,\n",
    "    args=training_args,\n",
    "    train_dataset=train_dataset,\n",
    "    eval_dataset=test_dataset\n",
    ")"
   ]
  },
  {
   "cell_type": "code",
   "execution_count": 24,
   "metadata": {
    "execution": {
     "iopub.execute_input": "2025-01-10T19:16:36.811824Z",
     "iopub.status.busy": "2025-01-10T19:16:36.811451Z",
     "iopub.status.idle": "2025-01-10T19:16:36.816093Z",
     "shell.execute_reply": "2025-01-10T19:16:36.814870Z",
     "shell.execute_reply.started": "2025-01-10T19:16:36.811793Z"
    }
   },
   "outputs": [],
   "source": [
    "import os"
   ]
  },
  {
   "cell_type": "code",
   "execution_count": 25,
   "metadata": {
    "execution": {
     "iopub.execute_input": "2025-01-10T19:16:38.212246Z",
     "iopub.status.busy": "2025-01-10T19:16:38.211835Z",
     "iopub.status.idle": "2025-01-10T19:16:38.216640Z",
     "shell.execute_reply": "2025-01-10T19:16:38.215776Z",
     "shell.execute_reply.started": "2025-01-10T19:16:38.212215Z"
    },
    "id": "2F9pS6l5jhgd"
   },
   "outputs": [],
   "source": [
    "os.environ[\"WANDB_DISABLED\"] = \"true\""
   ]
  },
  {
   "cell_type": "code",
   "execution_count": 26,
   "metadata": {
    "colab": {
     "base_uri": "https://localhost:8080/",
     "height": 362
    },
    "execution": {
     "iopub.execute_input": "2025-01-10T19:16:39.668039Z",
     "iopub.status.busy": "2025-01-10T19:16:39.667653Z",
     "iopub.status.idle": "2025-01-10T20:48:27.160866Z",
     "shell.execute_reply": "2025-01-10T20:48:27.159713Z",
     "shell.execute_reply.started": "2025-01-10T19:16:39.667999Z"
    },
    "id": "1wRF7lZ8isjn",
    "outputId": "2f970ff4-546a-4da0-afe5-5830ae25de39"
   },
   "outputs": [
    {
     "data": {
      "text/html": [
       "\n",
       "    <div>\n",
       "      \n",
       "      <progress value='148' max='148' style='width:300px; height:20px; vertical-align: middle;'></progress>\n",
       "      [148/148 1:31:21, Epoch 0/1]\n",
       "    </div>\n",
       "    <table border=\"1\" class=\"dataframe\">\n",
       "  <thead>\n",
       " <tr style=\"text-align: left;\">\n",
       "      <th>Epoch</th>\n",
       "      <th>Training Loss</th>\n",
       "      <th>Validation Loss</th>\n",
       "    </tr>\n",
       "  </thead>\n",
       "  <tbody>\n",
       "    <tr>\n",
       "      <td>0</td>\n",
       "      <td>0.000000</td>\n",
       "      <td>0.000004</td>\n",
       "    </tr>\n",
       "  </tbody>\n",
       "</table><p>"
      ],
      "text/plain": [
       "<IPython.core.display.HTML object>"
      ]
     },
     "metadata": {},
     "output_type": "display_data"
    },
    {
     "data": {
      "text/plain": [
       "TrainOutput(global_step=148, training_loss=4.356936974422629e-05, metrics={'train_runtime': 5507.0079, 'train_samples_per_second': 0.214, 'train_steps_per_second': 0.027, 'total_flos': 311523489546240.0, 'train_loss': 4.356936974422629e-05, 'epoch': 0.10033898305084746})"
      ]
     },
     "execution_count": 26,
     "metadata": {},
     "output_type": "execute_result"
    }
   ],
   "source": [
    "# Train the model\n",
    "trainer.train()"
   ]
  },
  {
   "cell_type": "markdown",
   "metadata": {},
   "source": [
    "## Step 4: Evaluation"
   ]
  },
  {
   "cell_type": "code",
   "execution_count": 27,
   "metadata": {
    "execution": {
     "iopub.execute_input": "2025-01-10T20:48:51.819122Z",
     "iopub.status.busy": "2025-01-10T20:48:51.818726Z",
     "iopub.status.idle": "2025-01-10T21:25:46.205067Z",
     "shell.execute_reply": "2025-01-10T21:25:46.204090Z",
     "shell.execute_reply.started": "2025-01-10T20:48:51.819084Z"
    },
    "id": "1UZrxzU1iZV4"
   },
   "outputs": [
    {
     "data": {
      "text/html": [
       "\n",
       "    <div>\n",
       "      \n",
       "      <progress value='369' max='369' style='width:300px; height:20px; vertical-align: middle;'></progress>\n",
       "      [369/369 36:48]\n",
       "    </div>\n",
       "    "
      ],
      "text/plain": [
       "<IPython.core.display.HTML object>"
      ]
     },
     "metadata": {},
     "output_type": "display_data"
    },
    {
     "name": "stdout",
     "output_type": "stream",
     "text": [
      "Evaluation Results: {'eval_loss': 4.180118594376836e-06, 'eval_runtime': 2214.3755, 'eval_samples_per_second': 1.332, 'eval_steps_per_second': 0.167, 'epoch': 0.10033898305084746}\n"
     ]
    }
   ],
   "source": [
    "# Evaluate the model\n",
    "evaluation_results = trainer.evaluate()\n",
    "print(\"Evaluation Results:\", evaluation_results)"
   ]
  },
  {
   "cell_type": "markdown",
   "metadata": {},
   "source": [
    "### Evaluation Results Explained (with 0.1 epoch to Complete it Faster)\n",
    "\n",
    "- **`eval_loss`: 4.180118594376836e-06**  \n",
    "  - The evaluation loss, indicating how well the model performs on the evaluation dataset. Lower is better.\n",
    "\n",
    "- **`eval_runtime`: 2214.3755 seconds**  \n",
    "  - Total time taken for the evaluation process.\n",
    "\n",
    "- **`eval_samples_per_second`: 1.332**  \n",
    "  - Speed of evaluation in terms of samples processed per second.\n",
    "\n",
    "- **`eval_steps_per_second`: 0.167**  \n",
    "  - Speed of evaluation in terms of steps (batches) processed per second.\n",
    "\n",
    "- **`epoch`: 0.10033898305084746**  \n",
    "  - The fraction of training completed (approximately 10% of one full epoch).\n",
    "\n",
    "### Key Insights\n",
    "- **Low Loss**: Indicates good performance on the evaluation dataset.  \n",
    "- **Efficiency**: Metrics like `samples_per_second` and `steps_per_second` reflect computational efficiency.  \n",
    "- **Early Training**: Evaluation conducted at ~10% of an epoch, meaning further training can refine results.\n"
   ]
  },
  {
   "cell_type": "markdown",
   "metadata": {},
   "source": [
    "## Evaluation Result\n",
    "### Based on the results, the model performs well on the evaluation dataset due to the very low evaluation loss (4.18e-06). However, since the evaluation was conducted early in training (~10% of an epoch), further training may improve results."
   ]
  },
  {
   "cell_type": "markdown",
   "metadata": {},
   "source": [
    "## Step 5: Save the Fine-tuned Model"
   ]
  },
  {
   "cell_type": "code",
   "execution_count": 28,
   "metadata": {
    "execution": {
     "iopub.execute_input": "2025-01-10T21:33:59.019591Z",
     "iopub.status.busy": "2025-01-10T21:33:59.019199Z",
     "iopub.status.idle": "2025-01-10T21:34:00.373430Z",
     "shell.execute_reply": "2025-01-10T21:34:00.372424Z",
     "shell.execute_reply.started": "2025-01-10T21:33:59.019562Z"
    },
    "id": "EGItPixijrIu"
   },
   "outputs": [
    {
     "data": {
      "text/plain": [
       "('/kaggle/working/tokenizer_config.json',\n",
       " '/kaggle/working/special_tokens_map.json',\n",
       " '/kaggle/working/vocab.txt',\n",
       " '/kaggle/working/added_tokens.json')"
      ]
     },
     "execution_count": 28,
     "metadata": {},
     "output_type": "execute_result"
    }
   ],
   "source": [
    "model.save_pretrained(\"/kaggle/working/\")\n",
    "tokenizer.save_pretrained(\"/kaggle/working/\")"
   ]
  },
  {
   "cell_type": "markdown",
   "metadata": {},
   "source": [
    "# Saved Files\n",
    "\n",
    "When saving the model and tokenizer, the following files are generated in the specified directory (`/kaggle/working/`):\n",
    "\n",
    "- **tokenizer_config.json**: Configuration file for the tokenizer, containing settings such as pre-trained model type and special tokens.\n",
    "- **special_tokens_map.json**: Maps special tokens like `[CLS]`, `[SEP]`, `[PAD]`, etc., to their corresponding IDs.\n",
    "- **vocab.txt**: The vocabulary file used by the tokenizer to convert text into token IDs.\n",
    "- **added_tokens.json** *(if applicable)*: Contains any additional tokens added to the tokenizer's vocabulary during fine-tuning.\n",
    "\n",
    "## Opportunities with Saved Files\n",
    "\n",
    "The saved model and tokenizer enable further usage and deployment, including:\n",
    "\n",
    "- **Inference**: Use the saved model to make predictions on new data without re-training.\n",
    "- **Fine-Tuning Continuation**: Load the saved model and tokenizer to resume training on additional data or refine the model further.\n",
    "- **Deployment**: Deploy the model to production environments, such as web applications or APIs, using frameworks like TensorFlow Serving or FastAPI.\n",
    "- **Transfer Learning**: Utilize the fine-tuned model as a base for other related tasks, saving time and computational resources.\n"
   ]
  }
 ],
 "metadata": {
  "colab": {
   "provenance": []
  },
  "kaggle": {
   "accelerator": "none",
   "dataSources": [
    {
     "datasetId": 6460276,
     "sourceId": 10422897,
     "sourceType": "datasetVersion"
    },
    {
     "sourceId": 155415194,
     "sourceType": "kernelVersion"
    }
   ],
   "dockerImageVersionId": 30822,
   "isGpuEnabled": false,
   "isInternetEnabled": true,
   "language": "python",
   "sourceType": "notebook"
  },
  "kernelspec": {
   "display_name": "Python 3 (ipykernel)",
   "language": "python",
   "name": "python3"
  },
  "language_info": {
   "codemirror_mode": {
    "name": "ipython",
    "version": 3
   },
   "file_extension": ".py",
   "mimetype": "text/x-python",
   "name": "python",
   "nbconvert_exporter": "python",
   "pygments_lexer": "ipython3",
   "version": "3.11.5"
  },
  "widgets": {
   "application/vnd.jupyter.widget-state+json": {
    "state": {},
    "version_major": 2,
    "version_minor": 0
   }
  }
 },
 "nbformat": 4,
 "nbformat_minor": 4
}
